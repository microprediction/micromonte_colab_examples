{
  "nbformat": 4,
  "nbformat_minor": 0,
  "metadata": {
    "colab": {
      "provenance": [],
      "authorship_tag": "ABX9TyMHVAsCgSH9XE9XKEhayZ83",
      "include_colab_link": true
    },
    "kernelspec": {
      "name": "python3",
      "display_name": "Python 3"
    },
    "language_info": {
      "name": "python"
    }
  },
  "cells": [
    {
      "cell_type": "markdown",
      "metadata": {
        "id": "view-in-github",
        "colab_type": "text"
      },
      "source": [
        "<a href=\"https://colab.research.google.com/github/microprediction/micromonte_colab_examples/blob/main/sklearn_empirical_qmc.ipynb\" target=\"_parent\"><img src=\"https://colab.research.google.com/assets/colab-badge.svg\" alt=\"Open In Colab\"/></a>"
      ]
    },
    {
      "cell_type": "code",
      "execution_count": null,
      "metadata": {
        "id": "VJq2FeaS-DNa"
      },
      "outputs": [],
      "source": [
        "!pip install yfinance\n",
        "!pip install pandas\n",
        "!pip install scikit-learn\n",
        "!pip install scipy\n"
      ]
    },
    {
      "cell_type": "code",
      "source": [
        "YOUR_EMAIL = 'nobody@nowhere.com'"
      ],
      "metadata": {
        "id": "hAoDyilbii6y"
      },
      "execution_count": 76,
      "outputs": []
    },
    {
      "cell_type": "code",
      "source": [
        "import yfinance as yf\n",
        "import pandas as pd\n",
        "from sklearn.covariance import EmpiricalCovariance\n",
        "from scipy.stats.qmc import MultivariateNormalQMC\n",
        "import numpy as np\n",
        "import json\n",
        "import sys\n",
        "import requests\n",
        "import pandas as pd\n",
        "from io import StringIO\n",
        "\n",
        "\n",
        "num_samples_per_chunk = int(1048576/8)\n",
        "num_chunks = 8\n",
        "num_samples = num_chunks*num_samples_per_chunk\n",
        "\n",
        "\n",
        "# List of SPDR ETFs symbols in alphabetical order\n",
        "spdr_etfs = ['XLB', 'XLC', 'XLE', 'XLF', 'XLI', 'XLK', 'XLP', 'XLRE', 'XLU', 'XLV', 'XLY']\n",
        "\n",
        "# Fetching the data\n",
        "data = yf.download(spdr_etfs, start=\"2018-01-01\", interval=\"1wk\")\n",
        "\n",
        "# Extracting the 'Adj Close' for each ETF\n",
        "weekly_prices = data['Adj Close']\n",
        "\n",
        "# Drop any NaN values\n",
        "weekly_prices = weekly_prices.dropna()\n",
        "\n",
        "# Calculating weekly returns\n",
        "weekly_returns = weekly_prices.pct_change().dropna()\n",
        "\n",
        "# Estimate the covariance matrix\n",
        "cov_matrix = EmpiricalCovariance().fit(weekly_returns).covariance_\n",
        "\n",
        "# Initialize the QMC sampler\n",
        "qmc_engine = MultivariateNormalQMC(mean=np.zeros(len(spdr_etfs)), cov=cov_matrix)\n",
        "\n",
        "# Generate samples\n",
        "samples = qmc_engine.random(num_samples)\n",
        "\n",
        "# Take a peek\n",
        "df = pd.DataFrame(columns=spdr_etfs, data = samples)\n",
        "print(df[:3])\n",
        "\n",
        "\n",
        "# Convert DataFrame to CSV string\n",
        "import numpy as np\n",
        "import requests\n",
        "from io import StringIO\n",
        "import pandas as pd\n",
        "import time\n",
        "\n",
        "def send_in_chunks(df, num_chunks, max_retries=3):\n",
        "    chunks = np.array_split(df, num_chunks)\n",
        "    for chunk_no, chunk_df in enumerate(chunks):\n",
        "        for attempt in range(max_retries):\n",
        "            try:\n",
        "                # Metadata and URL setup\n",
        "                metadata = {'email': YOUR_EMAIL, 'chunk': chunk_no, 'num_chunks': num_chunks}\n",
        "                URL = 'https://micromonte.pythonanywhere.com/upload'\n",
        "\n",
        "                # Convert DataFrame chunk to CSV string\n",
        "                csv_string = chunk_df.to_csv(index=False)\n",
        "\n",
        "                # Stream the CSV string to the server\n",
        "                with StringIO(csv_string) as f:\n",
        "                    response = requests.post(URL, params=metadata, data=f)\n",
        "\n",
        "                # Check response\n",
        "                if response.ok:\n",
        "                    print(f\"Chunk {chunk_no} of {num_chunks} sent successfully.\")\n",
        "                    break  # Break the retry loop if successful\n",
        "                else:\n",
        "                    print(f\"Failed to send chunk {chunk_no}, attempt {attempt + 1}. Response: {response.content}\")\n",
        "\n",
        "            except Exception as e:\n",
        "                print(f\"An error occurred: {e}\")\n",
        "\n",
        "            # Optional: wait before retrying\n",
        "            time.sleep(1)  # Wait for 1 second before retrying\n",
        "\n",
        "        else:\n",
        "            print(f\"Failed to send chunk {chunk_no} after {max_retries} attempts.\")\n",
        "\n",
        "\n",
        "send_in_chunks(df, num_chunks=num_chunks)\n"
      ],
      "metadata": {
        "colab": {
          "base_uri": "https://localhost:8080/"
        },
        "id": "mx0ZUY32_CAI",
        "outputId": "1b3841a8-a7df-413d-f2a1-3c2de2f02643"
      },
      "execution_count": 77,
      "outputs": [
        {
          "output_type": "stream",
          "name": "stderr",
          "text": [
            "[*********************100%%**********************]  11 of 11 completed\n"
          ]
        },
        {
          "output_type": "stream",
          "name": "stdout",
          "text": [
            "        XLB       XLC       XLE       XLF       XLI       XLK       XLP  \\\n",
            "0  0.011365 -0.019495  0.020266 -0.003191  0.012859  0.001234  0.009961   \n",
            "1 -0.004935  0.007295 -0.011247 -0.003412 -0.023124 -0.014551 -0.023456   \n",
            "2 -0.027570 -0.018378  0.004815 -0.040816 -0.031558 -0.043898  0.003677   \n",
            "\n",
            "       XLRE       XLU       XLV       XLY  \n",
            "0 -0.035866 -0.030097  0.003595 -0.026203  \n",
            "1 -0.013525 -0.000718 -0.016031  0.012829  \n",
            "2  0.006206  0.015475 -0.027322 -0.026078  \n",
            "Chunk 0 of 8 sent successfully.\n",
            "Chunk 1 of 8 sent successfully.\n",
            "Chunk 2 of 8 sent successfully.\n",
            "Chunk 3 of 8 sent successfully.\n",
            "Chunk 4 of 8 sent successfully.\n",
            "Chunk 5 of 8 sent successfully.\n",
            "Chunk 6 of 8 sent successfully.\n",
            "Chunk 7 of 8 sent successfully.\n"
          ]
        }
      ]
    },
    {
      "cell_type": "code",
      "source": [
        "# Scoring example\n",
        "\n",
        "def compute_score(samples, z, h=300.0):\n",
        "    distances = np.linalg.norm(samples - z, axis=1)\n",
        "    return np.sum(np.exp(-h * distances))\n",
        "\n",
        "z = 0.03*np.random.rand(11)\n",
        "score = compute_score(samples=samples,z=z)\n",
        "print(f\"Total Score: {score}\")\n"
      ],
      "metadata": {
        "colab": {
          "base_uri": "https://localhost:8080/"
        },
        "id": "jmSi03X1JUH9",
        "outputId": "691778d4-c8ba-4b4d-cdbc-58d2301ec260"
      },
      "execution_count": 120,
      "outputs": [
        {
          "output_type": "stream",
          "name": "stdout",
          "text": [
            "Total Score: 0.5817120867246773\n"
          ]
        }
      ]
    }
  ]
}